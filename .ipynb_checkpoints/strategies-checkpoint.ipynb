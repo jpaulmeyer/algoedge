{
 "cells": [
  {
   "cell_type": "code",
   "execution_count": null,
   "metadata": {
    "collapsed": true
   },
   "outputs": [],
   "source": [
    "#strategies.py\n",
    "\n",
    "def strat0(kno,pct):\n",
    "    if str(kno)[:2] == '41':\n",
    "        if int(pct) == 83:\n",
    "            return ('buy',0.5)\n",
    "        elif int(pct) == 92:\n",
    "            return ('buy',1.0)\n",
    "        elif int(pct) == 100:\n",
    "            return ('buy',2.0)\n",
    "    elif str(kno)[:2] == '31':\n",
    "        if int(pct) == 83:\n",
    "            return ('sell',0.5)\n",
    "        elif int(pct) == 92:\n",
    "            return ('sell',1.0)\n",
    "        elif int(pct) == 100:\n",
    "            return ('sell',2.0)\n",
    "    else:\n",
    "        return ('none',0.0)\n",
    "\n",
    "def decide(inno,stratkey):\n",
    "    if stratkey == 'main':\n",
    "        return strat0(inno.kno,inno.pct)\n",
    "    else:\n",
    "        print 'other strategies not yet implemented'"
   ]
  }
 ],
 "metadata": {
  "kernelspec": {
   "display_name": "Python 2",
   "language": "python",
   "name": "python2"
  },
  "language_info": {
   "codemirror_mode": {
    "name": "ipython",
    "version": 2
   },
   "file_extension": ".py",
   "mimetype": "text/x-python",
   "name": "python",
   "nbconvert_exporter": "python",
   "pygments_lexer": "ipython2",
   "version": "2.7.10"
  }
 },
 "nbformat": 4,
 "nbformat_minor": 0
}
